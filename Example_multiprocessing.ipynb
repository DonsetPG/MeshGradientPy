{
 "cells": [
  {
   "cell_type": "markdown",
   "metadata": {},
   "source": [
    "We also support multiprocessing in order to speed up the computation time of gradient matrix. This multiprocessing is done using Ray. You can easily tweaks the parameters we used in the code to use more cores (or even to tailor it in a more powerful cluster)"
   ]
  },
  {
   "cell_type": "markdown",
   "metadata": {},
   "source": [
    "# Basic Import"
   ]
  },
  {
   "cell_type": "code",
   "execution_count": 1,
   "metadata": {},
   "outputs": [],
   "source": [
    "import numpy as np\n",
    "import meshio\n",
    "import os\n",
    "import tensorflow as tf"
   ]
  },
  {
   "cell_type": "code",
   "execution_count": 2,
   "metadata": {},
   "outputs": [],
   "source": [
    "import pyvista as pv"
   ]
  },
  {
   "cell_type": "code",
   "execution_count": 3,
   "metadata": {},
   "outputs": [],
   "source": [
    "mesh_path = 'shapes/shape_1_1_0.vtu'"
   ]
  },
  {
   "cell_type": "code",
   "execution_count": 4,
   "metadata": {},
   "outputs": [],
   "source": [
    "mesh = meshio.read(mesh_path,\"vtu\")"
   ]
  },
  {
   "cell_type": "code",
   "execution_count": 5,
   "metadata": {},
   "outputs": [],
   "source": [
    "from meshgradient.matrix import build_CON_matrix, build_PCE_matrix, build_AGS_matrix"
   ]
  },
  {
   "cell_type": "code",
   "execution_count": 6,
   "metadata": {},
   "outputs": [
    {
     "name": "stdout",
     "output_type": "stream",
     "text": [
      "CPU times: user 790 ms, sys: 7.01 ms, total: 797 ms\n",
      "Wall time: 805 ms\n",
      "\n",
      "----------\n",
      "\n",
      "Gradient Matrix as a Tensorflow Sparse Tensor: \n",
      "\n",
      "SparseTensor(indices=tf.Tensor(\n",
      "[[   0 1034]\n",
      " [   0 4295]\n",
      " [   1 1209]\n",
      " ...\n",
      " [2254 1820]\n",
      " [2254 2874]\n",
      " [2254 2879]], shape=(13026, 2), dtype=int64), values=tf.Tensor([0.49501204 0.50498796 0.4686343  ... 0.17672244 0.17399704 0.14961846], shape=(13026,), dtype=float32), dense_shape=tf.Tensor([2255 4342], shape=(2,), dtype=int64))\n",
      "\n",
      "----------\n",
      "\n"
     ]
    }
   ],
   "source": [
    "%time test = build_CON_matrix(mesh)\n",
    "print()\n",
    "print('-'*10)\n",
    "print()\n",
    "print(\"Gradient Matrix as a Tensorflow Sparse Tensor: \")\n",
    "print()\n",
    "print(test)\n",
    "print()\n",
    "print('-'*10)\n",
    "print()"
   ]
  },
  {
   "cell_type": "code",
   "execution_count": 6,
   "metadata": {},
   "outputs": [],
   "source": [
    "from meshgradient.matrix_multiprocess import build_CON_matrix_multiprocess"
   ]
  },
  {
   "cell_type": "code",
   "execution_count": 8,
   "metadata": {},
   "outputs": [
    {
     "name": "stderr",
     "output_type": "stream",
     "text": [
      "2021-01-13 21:44:42,899\tINFO services.py:1171 -- View the Ray dashboard at \u001b[1m\u001b[32mhttp://127.0.0.1:8265\u001b[39m\u001b[22m\n"
     ]
    },
    {
     "name": "stdout",
     "output_type": "stream",
     "text": [
      "CPU times: user 772 ms, sys: 240 ms, total: 1.01 s\n",
      "Wall time: 2.78 s\n",
      "\n",
      "----------\n",
      "\n",
      "Gradient Matrix as a Tensorflow Sparse Tensor: \n",
      "\n",
      "SparseTensor(indices=tf.Tensor(\n",
      "[[   0 1034]\n",
      " [   0 4295]\n",
      " [   6   18]\n",
      " ...\n",
      " [2250 4292]\n",
      " [2250 4293]\n",
      " [2250 4294]], shape=(2178, 2), dtype=int64), values=tf.Tensor([0.49501204 0.50498796 0.15556006 ... 0.34362173 0.32785243 0.3285258 ], shape=(2178,), dtype=float32), dense_shape=tf.Tensor([2255 4342], shape=(2,), dtype=int64))\n",
      "\n",
      "----------\n",
      "\n"
     ]
    }
   ],
   "source": [
    "%time test_ = build_CON_matrix_multiprocess(mesh)\n",
    "print()\n",
    "print('-'*10)\n",
    "print()\n",
    "print(\"Gradient Matrix as a Tensorflow Sparse Tensor: \")\n",
    "print()\n",
    "print(test_)\n",
    "print()\n",
    "print('-'*10)\n",
    "print()"
   ]
  },
  {
   "cell_type": "markdown",
   "metadata": {},
   "source": [
    "## Let's now try with a larger mesh: "
   ]
  },
  {
   "cell_type": "code",
   "execution_count": 7,
   "metadata": {},
   "outputs": [],
   "source": [
    "mesh_path = 'shapes/test_elie_2.vtu'"
   ]
  },
  {
   "cell_type": "code",
   "execution_count": 8,
   "metadata": {},
   "outputs": [],
   "source": [
    "mesh = meshio.read(mesh_path,\"vtu\")"
   ]
  },
  {
   "cell_type": "code",
   "execution_count": 11,
   "metadata": {},
   "outputs": [
    {
     "name": "stdout",
     "output_type": "stream",
     "text": [
      "CPU times: user 32.7 s, sys: 842 ms, total: 33.6 s\n",
      "Wall time: 32.9 s\n",
      "\n",
      "----------\n",
      "\n",
      "Gradient Matrix as a Tensorflow Sparse Tensor: \n",
      "\n",
      "SparseTensor(indices=tf.Tensor(\n",
      "[[    0 27751]\n",
      " [    0 28789]\n",
      " [    1 38274]\n",
      " ...\n",
      " [34058 61046]\n",
      " [34058 61277]\n",
      " [34058 64016]], shape=(200574, 2), dtype=int64), values=tf.Tensor([0.47596535 0.5240347  0.484835   ... 0.16243581 0.18081339 0.2219213 ], shape=(200574,), dtype=float32), dense_shape=tf.Tensor([34059 66858], shape=(2,), dtype=int64))\n",
      "\n",
      "----------\n",
      "\n"
     ]
    }
   ],
   "source": [
    "%time test = build_CON_matrix(mesh)\n",
    "print()\n",
    "print('-'*10)\n",
    "print()\n",
    "print(\"Gradient Matrix as a Tensorflow Sparse Tensor: \")\n",
    "print()\n",
    "print(test)\n",
    "print()\n",
    "print('-'*10)\n",
    "print()"
   ]
  },
  {
   "cell_type": "code",
   "execution_count": 9,
   "metadata": {},
   "outputs": [
    {
     "name": "stderr",
     "output_type": "stream",
     "text": [
      "2021-01-13 21:50:31,232\tINFO services.py:1171 -- View the Ray dashboard at \u001b[1m\u001b[32mhttp://127.0.0.1:8265\u001b[39m\u001b[22m\n"
     ]
    },
    {
     "name": "stdout",
     "output_type": "stream",
     "text": [
      "CPU times: user 12.2 s, sys: 3.52 s, total: 15.7 s\n",
      "Wall time: 18.9 s\n",
      "\n",
      "----------\n",
      "\n",
      "Gradient Matrix as a Tensorflow Sparse Tensor: \n",
      "\n",
      "SparseTensor(indices=tf.Tensor(\n",
      "[[    0 27751]\n",
      " [    0 28789]\n",
      " [    6 11981]\n",
      " ...\n",
      " [34056 52446]\n",
      " [34056 65023]\n",
      " [34056 65107]], shape=(33476, 2), dtype=int64), values=tf.Tensor([0.47596535 0.5240347  0.38816726 ... 0.1920759  0.18272963 0.1574996 ], shape=(33476,), dtype=float32), dense_shape=tf.Tensor([34059 66858], shape=(2,), dtype=int64))\n",
      "\n",
      "----------\n",
      "\n"
     ]
    }
   ],
   "source": [
    "%time test_ = build_CON_matrix_multiprocess(mesh)\n",
    "print()\n",
    "print('-'*10)\n",
    "print()\n",
    "print(\"Gradient Matrix as a Tensorflow Sparse Tensor: \")\n",
    "print()\n",
    "print(test_)\n",
    "print()\n",
    "print('-'*10)\n",
    "print()"
   ]
  },
  {
   "cell_type": "code",
   "execution_count": null,
   "metadata": {},
   "outputs": [],
   "source": []
  }
 ],
 "metadata": {
  "kernelspec": {
   "display_name": "Python 3",
   "language": "python",
   "name": "python3"
  },
  "language_info": {
   "codemirror_mode": {
    "name": "ipython",
    "version": 3
   },
   "file_extension": ".py",
   "mimetype": "text/x-python",
   "name": "python",
   "nbconvert_exporter": "python",
   "pygments_lexer": "ipython3",
   "version": "3.8.6"
  }
 },
 "nbformat": 4,
 "nbformat_minor": 4
}
